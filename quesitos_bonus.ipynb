{
 "cells": [
  {
   "cell_type": "code",
   "execution_count": null,
   "metadata": {},
   "outputs": [],
   "source": [
    "!pip install -U plotly"
   ]
  },
  {
   "cell_type": "code",
   "execution_count": null,
   "metadata": {},
   "outputs": [],
   "source": [
    "!conda install datashader -y"
   ]
  },
  {
   "cell_type": "code",
   "execution_count": null,
   "metadata": {},
   "outputs": [],
   "source": [
    "!conda install -c pyviz holoviews bokeh -y"
   ]
  },
  {
   "cell_type": "code",
   "execution_count": null,
   "metadata": {},
   "outputs": [],
   "source": [
    "import pandas as pd\n",
    "from os import listdir\n",
    "from pandasql import sqldf\n",
    "import matplotlib as plt\n",
    "import plotly.express as px\n",
    "from datetime import timedelta"
   ]
  },
  {
   "cell_type": "code",
   "execution_count": null,
   "metadata": {},
   "outputs": [],
   "source": [
    "#definindo o diretorio\n",
    "directory = 'data/'\n",
    "files = listdir(directory)"
   ]
  },
  {
   "cell_type": "code",
   "execution_count": null,
   "metadata": {},
   "outputs": [],
   "source": [
    "#selecionando apenas as variaveis importantes para esta analise\n",
    "col_names = ['vendor_id', 'pickup_datetime','dropoff_datetime', 'pickup_longitude','pickup_latitude', \n",
    "             'dropoff_longitude', 'dropoff_latitude']\n",
    "\n",
    "#setando os tipos para as variaveis, para que o pandas não precise adivinhar os dados e consumir mais RAM\n",
    "dtypes = {\n",
    "    \"vendor_id\": \"category\",\n",
    "    \"pickup_datetime\": \"datetime64\",\n",
    "    \"dropoff_datetime\": \"datetime64\",\n",
    "    \"pickup_longitude\": \"float\",\n",
    "    \"pickup_latitude\": \"float\",\n",
    "    \"dropoff_longitude\":\"float\",\n",
    "    \"dropoff_latitude\": \"float\"\n",
    "}\n",
    "\n",
    "#criando um dataframe vazio apenas para as colunas. Este dataframe servira para concatenar todos os datasets\n",
    "#posteriormente\n",
    "df = pd.DataFrame(columns=col_names)\n",
    "\n",
    "#um for que le apenas os .json\n",
    "for file_name in files:\n",
    "    if '.json' in file_name:\n",
    "        #le o primeiro json tranformando-o em dataframe do pandas\n",
    "        df_new = pd.read_json(directory+file_name, lines=True, dtype=dtypes)\n",
    "        #pega apenas as colunas que serao importantes para as analises e sobreescreve o dataframe\n",
    "        df_new = df_new[col_names]\n",
    "\n",
    "        #concatena o dataframe antigo com o novo\n",
    "        df = pd.concat([df, df_new])\n",
    "\n",
    "df = df.reset_index(drop=True)"
   ]
  },
  {
   "cell_type": "markdown",
   "metadata": {},
   "source": [
    "### Tempo médio das corridas nos dias de sábado e domingo"
   ]
  },
  {
   "cell_type": "code",
   "execution_count": null,
   "metadata": {},
   "outputs": [],
   "source": [
    "#tempo medio das curridas durante a semana\n",
    "df_workdays = df[df['pickup_datetime'].dt.weekday < 5]\n",
    "\n",
    "seconds = df_workdays['dropoff_datetime'].sub(df_workdays['pickup_datetime']).mean().seconds \n",
    "str(timedelta(seconds=seconds))"
   ]
  },
  {
   "cell_type": "code",
   "execution_count": null,
   "metadata": {},
   "outputs": [],
   "source": [
    "#tempo medio das corridas nos finais de semana\n",
    "df_weekends = df[(df['pickup_datetime'].dt.weekday == 5) | (df['pickup_datetime'].dt.weekday == 6)]\n",
    "\n",
    "seconds = df_weekends['dropoff_datetime'].sub(df_weekends['pickup_datetime']).mean().seconds \n",
    "str(timedelta(seconds=seconds))"
   ]
  },
  {
   "cell_type": "markdown",
   "metadata": {},
   "source": [
    "### Mapa com latitude e longitude de pickups and dropoffs no ano de 2010"
   ]
  },
  {
   "cell_type": "markdown",
   "metadata": {},
   "source": [
    "#### Pickups"
   ]
  },
  {
   "cell_type": "code",
   "execution_count": null,
   "metadata": {},
   "outputs": [],
   "source": [
    "import datashader as ds\n",
    "import datashader.transfer_functions as tf"
   ]
  },
  {
   "cell_type": "code",
   "execution_count": null,
   "metadata": {},
   "outputs": [],
   "source": [
    "#filtrando dados com ano 2010\n",
    "df_2010 = df[df['pickup_datetime'].dt.year == 2010]"
   ]
  },
  {
   "cell_type": "code",
   "execution_count": null,
   "metadata": {},
   "outputs": [],
   "source": [
    "#delimitando o mapa de New York para remover coordenadas muito distantes (outliers e coordenadas erradas)\n",
    "df_pickup = df_2010.query('pickup_latitude < 40.90').query('pickup_latitude > 40.50').query('pickup_longitude > -74.25').query('pickup_longitude < -73.82')"
   ]
  },
  {
   "cell_type": "code",
   "execution_count": null,
   "metadata": {},
   "outputs": [],
   "source": [
    "#cria um canvas vazio para o tamanho da imagem\n",
    "cvs_pickup = ds.Canvas(plot_width=1000, plot_height=1000)\n",
    "\n",
    "#adiciona os pontos no canvas baseado na latitude e longitude\n",
    "agg_pickup = cvs_pickup.points(df_pickup, x='pickup_longitude', y='pickup_latitude')\n",
    "\n",
    "#pega as coordenadas para usarmos posteriormente no mapa do plotly\n",
    "coords_lat_pickup, coords_lon_pickup = agg_pickup.coords['pickup_latitude'].values, agg_pickup.coords['pickup_longitude'].values\n",
    "\n",
    "coordinates_pickup = [[coords_lon_pickup[0], coords_lat_pickup[0]],\n",
    "               [coords_lon_pickup[-1], coords_lat_pickup[0]],\n",
    "               [coords_lon_pickup[-1], coords_lat_pickup[-1]],\n",
    "               [coords_lon_pickup[0], coords_lat_pickup[-1]]]"
   ]
  },
  {
   "cell_type": "code",
   "execution_count": null,
   "metadata": {},
   "outputs": [],
   "source": [
    "#cria uma imagem baseada no canvas do passo anterior\n",
    "img_pickup = tf.shade(agg_pickup, cmap=['yellow', 'red'], how='log')[::-1].to_pil()"
   ]
  },
  {
   "cell_type": "code",
   "execution_count": null,
   "metadata": {},
   "outputs": [],
   "source": [
    "#pega a primeira coordenada do dataset para poder dar zoom no mapa ao plotar\n",
    "fig = px.scatter_mapbox(df_pickup[:1], lat='pickup_latitude', lon='pickup_longitude', zoom=10.5)\n",
    "\n",
    "#atualiza o layout adicionado a imagem com os pontos com a referencia das coordenadas\n",
    "fig.update_layout(mapbox_style=\"carto-darkmatter\",\n",
    "                 mapbox_layers = [\n",
    "                {\n",
    "                    \"sourcetype\": \"image\",\n",
    "                    \"source\": img_pickup,\n",
    "                    \"coordinates\": coordinates_pickup\n",
    "                }]\n",
    ")\n",
    "fig.show()\n",
    "#fig.write_image(\"graficos/pickups_maps.jpeg\")"
   ]
  },
  {
   "cell_type": "markdown",
   "metadata": {},
   "source": [
    "#### Dropoffs"
   ]
  },
  {
   "cell_type": "code",
   "execution_count": null,
   "metadata": {},
   "outputs": [],
   "source": [
    "#delimitando o mapa de New York para remover coordenadas muito distantes\n",
    "df_dropoff = df_2010.query('dropoff_latitude < 40.90').query('dropoff_latitude > 40.50').query('dropoff_longitude > -74.25').query('dropoff_longitude < -73.82')"
   ]
  },
  {
   "cell_type": "code",
   "execution_count": null,
   "metadata": {},
   "outputs": [],
   "source": [
    "#cria um canvas vazio para o tamanho da imagem\n",
    "cvs_dropoff = ds.Canvas(plot_width=1000, plot_height=1000)\n",
    "\n",
    "#adiciona os pontos no canvas baseado na latitude e longitude\n",
    "agg_dropoff = cvs_dropoff.points(df_dropoff, x='dropoff_longitude', y='dropoff_latitude')\n",
    "\n",
    "#pega as coordenadas para usarmos posteriormente no mapa do plotly\n",
    "coords_lat_dropoff, coords_lon_dropoff = agg_dropoff.coords['dropoff_latitude'].values, agg_dropoff.coords['dropoff_longitude'].values\n",
    "\n",
    "coordinates_dropoff = [[coords_lon_dropoff[0], coords_lat_dropoff[0]],\n",
    "               [coords_lon_dropoff[-1], coords_lat_dropoff[0]],\n",
    "               [coords_lon_dropoff[-1], coords_lat_dropoff[-1]],\n",
    "               [coords_lon_dropoff[0], coords_lat_dropoff[-1]]]"
   ]
  },
  {
   "cell_type": "code",
   "execution_count": null,
   "metadata": {},
   "outputs": [],
   "source": [
    "#cria uma imagem baseada no canvas do passo anterior\n",
    "img_dropoff = tf.shade(agg_dropoff, cmap=['lightblue', 'green'], how='log')[::-1].to_pil()"
   ]
  },
  {
   "cell_type": "code",
   "execution_count": null,
   "metadata": {},
   "outputs": [],
   "source": [
    "#pega a primeira coordenada do dataset para poder dar zoom no mapa ao plotar\n",
    "fig = px.scatter_mapbox(df_pickup[:1], lat='dropoff_latitude', lon='dropoff_longitude', zoom=10.5)\n",
    "\n",
    "#atualiza o layout adicionado a imagem com os pontos com a referencia das coordenadas\n",
    "fig.update_layout(mapbox_style=\"carto-darkmatter\",\n",
    "                 mapbox_layers = [\n",
    "                {\n",
    "                    \"sourcetype\": \"image\",\n",
    "                    \"source\": img_dropoff,\n",
    "                    \"coordinates\": coordinates_dropoff\n",
    "                },\n",
    "                ]\n",
    ")\n",
    "fig.show()\n",
    "#fig.write_html(\"graficos/dropoffs_maps.html\")"
   ]
  }
 ],
 "metadata": {
  "kernelspec": {
   "display_name": "Python 3",
   "language": "python",
   "name": "python3"
  },
  "language_info": {
   "codemirror_mode": {
    "name": "ipython",
    "version": 3
   },
   "file_extension": ".py",
   "mimetype": "text/x-python",
   "name": "python",
   "nbconvert_exporter": "python",
   "pygments_lexer": "ipython3",
   "version": "3.8.3"
  }
 },
 "nbformat": 4,
 "nbformat_minor": 4
}
